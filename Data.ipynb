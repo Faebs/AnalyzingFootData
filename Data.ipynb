{
 "cells": [
  {
   "cell_type": "code",
   "execution_count": 1,
   "metadata": {},
   "outputs": [],
   "source": [
    "import pandas as pd\n",
    "import os as os\n",
    "\n",
    "#Variables\n",
    "ID = 'NaN'\n",
    "Size = 'NaN'\n",
    "Length = 'NaN'\n",
    "Width = 'NaN'\n",
    "Fersenbreite = 'NaN'\n",
    "D1_L1 = 'NaN'\n",
    "D2_L1 = 'NaN'\n",
    "D3_L1 = 'NaN'\n",
    "D4_L1 = 'NaN'\n",
    "D5_L1 = 'NaN'\n",
    "D1_L2 = 'NaN'\n",
    "D2_L2 = 'NaN'\n",
    "D3_L2 = 'NaN'\n",
    "D4_L2 = 'NaN'\n",
    "D5_L2 = 'NaN'\n",
    "\n",
    "#Creates Dataframe with Columns\n",
    "df = pd.DataFrame(columns=['ID','Size', 'Length','Width','Fersenbreite',\n",
    "                           'D1_L1','D2_L1','D3_L1','D4_L1','D5_L1',\n",
    "                           'D1_L2','D2_L2','D3_L2','D4_L2','D5_L2'])"
   ]
  },
  {
   "cell_type": "code",
   "execution_count": null,
   "metadata": {
    "collapsed": true
   },
   "outputs": [],
   "source": []
  },
  {
   "cell_type": "code",
   "execution_count": 11,
   "metadata": {},
   "outputs": [
    {
     "name": "stdout",
     "output_type": "stream",
     "text": [
      "['20090313145121.JPG', '20090319102532.JPG', '20090323115358.JPG', '20090323115459.JPG', 'fg1_copy.JPG']\n",
      "20090313145121.JPG\n",
      "20090319102532.JPG\n",
      "20090323115358.JPG\n",
      "20090323115459.JPG\n",
      "fg1_copy.JPG\n"
     ]
    },
    {
     "data": {
      "text/html": [
       "<div>\n",
       "<style>\n",
       "    .dataframe thead tr:only-child th {\n",
       "        text-align: right;\n",
       "    }\n",
       "\n",
       "    .dataframe thead th {\n",
       "        text-align: left;\n",
       "    }\n",
       "\n",
       "    .dataframe tbody tr th {\n",
       "        vertical-align: top;\n",
       "    }\n",
       "</style>\n",
       "<table border=\"1\" class=\"dataframe\">\n",
       "  <thead>\n",
       "    <tr style=\"text-align: right;\">\n",
       "      <th></th>\n",
       "      <th>ID</th>\n",
       "      <th>Size</th>\n",
       "      <th>Length</th>\n",
       "      <th>Width</th>\n",
       "      <th>Fersenbreite</th>\n",
       "      <th>D1_L1</th>\n",
       "      <th>D2_L1</th>\n",
       "      <th>D3_L1</th>\n",
       "      <th>D4_L1</th>\n",
       "      <th>D5_L1</th>\n",
       "      <th>D1_L2</th>\n",
       "      <th>D2_L2</th>\n",
       "      <th>D3_L2</th>\n",
       "      <th>D4_L2</th>\n",
       "      <th>D5_L2</th>\n",
       "    </tr>\n",
       "  </thead>\n",
       "  <tbody>\n",
       "  </tbody>\n",
       "</table>\n",
       "</div>"
      ],
      "text/plain": [
       "Empty DataFrame\n",
       "Columns: [ID, Size, Length, Width, Fersenbreite, D1_L1, D2_L1, D3_L1, D4_L1, D5_L1, D1_L2, D2_L2, D3_L2, D4_L2, D5_L2]\n",
       "Index: []"
      ]
     },
     "execution_count": 11,
     "metadata": {},
     "output_type": "execute_result"
    }
   ],
   "source": [
    "#Analyze all Pictures\n",
    "#Initilaize Folder with Footscans\n",
    "listOfAllFiles = os.listdir(path = \"C:\\\\Users\\\\Fabian\\\\Desktop\\\\GIThub\\\\AnalyzingFootData\")\n",
    "                            # F:\\\\Dropbox\\\\ADICS\\\\22_Grundlagenentwicklung\\\\Fußscans Orthotec\")\n",
    "listOfAllScans = []\n",
    "for scans in listOfAllFiles:\n",
    "    if scans.endswith(\".JPG\"):\n",
    "        listOfAllScans.append(scans)\n",
    "print (listOfAllScans)\n",
    "\n",
    "\n",
    "for scan in listOfAllScans:\n",
    "    print(scan)\n",
    "    #\n",
    "    ID = scan.strip(\".JPG\")\n",
    "    df.append({'ID': ID,'Sizes':Size, 'Length': Length,'Width': Width,'Fersenbreite': Fersenbreite,\n",
    "                           'D1_L1': D1_L1,'D2_L1': D2_L1,'D3_L1': D3_L1,'D4_L1': D4_L1,'D5_L1': D5_L1,\n",
    "                           'D1_L2': D1_L2,'D2_L2': D2_L2,'D3_L2': D3_L2,'D4_L2': D4_L2,'D5_L2': D5_L2},\n",
    "                            ignore_index = True)  #Append data to DataFrame   \n",
    "\n",
    "df"
   ]
  },
  {
   "cell_type": "code",
   "execution_count": null,
   "metadata": {
    "collapsed": true
   },
   "outputs": [],
   "source": []
  }
 ],
 "metadata": {
  "kernelspec": {
   "display_name": "Python 3",
   "language": "python",
   "name": "python3"
  },
  "language_info": {
   "codemirror_mode": {
    "name": "ipython",
    "version": 3
   },
   "file_extension": ".py",
   "mimetype": "text/x-python",
   "name": "python",
   "nbconvert_exporter": "python",
   "pygments_lexer": "ipython3",
   "version": "3.6.2"
  }
 },
 "nbformat": 4,
 "nbformat_minor": 2
}
