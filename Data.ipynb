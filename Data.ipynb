{
 "cells": [
  {
   "cell_type": "code",
   "execution_count": 1,
   "metadata": {
    "collapsed": true
   },
   "outputs": [],
   "source": [
    "import pandas as pd\n",
    "import os as os\n",
    "import cv2\n",
    "import numpy as np\n",
    "from matplotlib import pyplot as plt\n",
    "\n",
    "%matplotlib inline\n",
    "\n",
    "#Variables\n",
    "ID = 'NaN'\n",
    "Size = 'NaN'\n",
    "Length_cm = 'NaN'\n",
    "Length_dots = 'NAN'\n",
    "Width = 'NaN'\n",
    "Fersenbreite = 'NaN'\n",
    "D1_L1 = 'NaN'\n",
    "D2_L1 = 'NaN'\n",
    "D3_L1 = 'NaN'\n",
    "D4_L1 = 'NaN'\n",
    "D5_L1 = 'NaN'\n",
    "D1_L2 = 'NaN'\n",
    "D2_L2 = 'NaN'\n",
    "D3_L2 = 'NaN'\n",
    "D4_L2 = 'NaN'\n",
    "D5_L2 = 'NaN'"
   ]
  },
  {
   "cell_type": "code",
   "execution_count": 2,
   "metadata": {
    "collapsed": true
   },
   "outputs": [],
   "source": [
    "%run 'AnalyseFootScan.ipynb'"
   ]
  },
  {
   "cell_type": "code",
   "execution_count": 3,
   "metadata": {
    "collapsed": false
   },
   "outputs": [
    {
     "ename": "FileNotFoundError",
     "evalue": "[WinError 3] Das System kann den angegebenen Pfad nicht finden: 'C:\\\\Users\\\\Fabian\\\\Desktop\\\\GIThub\\\\AnalyzingFootData'",
     "output_type": "error",
     "traceback": [
      "\u001b[1;31m---------------------------------------------------------------------------\u001b[0m",
      "\u001b[1;31mFileNotFoundError\u001b[0m                         Traceback (most recent call last)",
      "\u001b[1;32m<ipython-input-3-214cfb1531ed>\u001b[0m in \u001b[0;36m<module>\u001b[1;34m()\u001b[0m\n\u001b[0;32m      2\u001b[0m \u001b[1;31m#Initilaize Folder with Footscans\u001b[0m\u001b[1;33m\u001b[0m\u001b[1;33m\u001b[0m\u001b[0m\n\u001b[0;32m      3\u001b[0m \u001b[1;31m#listOfAllFiles = os.listdir(path = \"/Fussscans\")\u001b[0m\u001b[1;33m\u001b[0m\u001b[1;33m\u001b[0m\u001b[0m\n\u001b[1;32m----> 4\u001b[1;33m \u001b[0mlistOfAllFiles\u001b[0m \u001b[1;33m=\u001b[0m \u001b[0mos\u001b[0m\u001b[1;33m.\u001b[0m\u001b[0mlistdir\u001b[0m\u001b[1;33m(\u001b[0m\u001b[0mpath\u001b[0m \u001b[1;33m=\u001b[0m \u001b[1;34m\"C:\\\\Users\\\\Fabian\\\\Desktop\\\\GIThub\\\\AnalyzingFootData\"\u001b[0m\u001b[1;33m)\u001b[0m\u001b[1;31m#\\\\sortiertName\")#FussScansSelection\")\u001b[0m\u001b[1;33m\u001b[0m\u001b[0m\n\u001b[0m\u001b[0;32m      5\u001b[0m \u001b[1;31m#listOfAllFiles = os.listdir(path = \"F:\\\\Dropbox\\\\ADICS\\\\22_Grundlagenentwicklung\\\\Fussscans\")\u001b[0m\u001b[1;33m\u001b[0m\u001b[1;33m\u001b[0m\u001b[0m\n\u001b[0;32m      6\u001b[0m \u001b[1;31m#listOfAllFiles = os.listdir(path = \"F:\\\\Dropbox\\\\ADICS\\\\22_Grundlagenentwicklung\") #\\\\usefulrest\")\u001b[0m\u001b[1;33m\u001b[0m\u001b[1;33m\u001b[0m\u001b[0m\n",
      "\u001b[1;31mFileNotFoundError\u001b[0m: [WinError 3] Das System kann den angegebenen Pfad nicht finden: 'C:\\\\Users\\\\Fabian\\\\Desktop\\\\GIThub\\\\AnalyzingFootData'"
     ]
    }
   ],
   "source": [
    "#Analyze all Pictures\n",
    "#Initilaize Folder with Footscans\n",
    "#listOfAllFiles = os.listdir(path = \"/Fussscans\")\n",
    "listOfAllFiles = os.listdir(path = \"C:\\\\Users\\\\Fabian\\\\Desktop\\\\GIThub\\\\AnalyzingFootData\")#\\\\sortiertName\")#FussScansSelection\")\n",
    "#listOfAllFiles = os.listdir(path = \"F:\\\\Dropbox\\\\ADICS\\\\22_Grundlagenentwicklung\\\\Fussscans\")\n",
    "#listOfAllFiles = os.listdir(path = \"F:\\\\Dropbox\\\\ADICS\\\\22_Grundlagenentwicklung\") #\\\\usefulrest\")\n",
    "\n",
    "listOfAllScans = []\n",
    "for scans in listOfAllFiles:\n",
    "    if scans.endswith(\".JPG\"):\n",
    "        listOfAllScans.append(scans)\n",
    "        #print (scans)\n",
    "#print (listOfAllScans)\n",
    "\n",
    "#Creates Dataframe with Columns\n",
    "df = pd.DataFrame(columns=['ID','Size','Length_cm', 'Length_dots','Width','Fersenbreite',\n",
    "                           'D1_L1','D2_L1','D3_L1','D4_L1','D5_L1',\n",
    "                           'D1_L2','D2_L2','D3_L2','D4_L2','D5_L2'])\n",
    "\n",
    "for scan in listOfAllScans:\n",
    "    print (scan) \n",
    "    try:\n",
    "        image = cv2.imread(scan) # load image\n",
    "        foot_length_cm, foot_width_cm = analyseFootScan(image, False) # Boolean specifies whether visualization is done\n",
    "\n",
    "        ID = scan.strip(\".JPG\")\n",
    "        #Define Size\n",
    "        #nach Wikipedia: \n",
    "        #Schuhgröße (EU) ≈ (Fußlänge in cm + 1,5) × 1,5    // Rundung auf halbe Größen\n",
    "        Size = round((foot_length_cm + 1.5)*1.5 * 2) / 2\n",
    "        \n",
    "        df = df.append({'ID': ID,'Size':Size, 'Length_cm': foot_length_cm, 'Length_dots': Length_dots,'Width': foot_width_cm,'Fersenbreite': Fersenbreite,\n",
    "                               'D1_L1': D1_L1,'D2_L1': D2_L1,'D3_L1': D3_L1,'D4_L1': D4_L1,'D5_L1': D5_L1,\n",
    "                               'D1_L2': D1_L2,'D2_L2': D2_L2,'D3_L2': D3_L2,'D4_L2': D4_L2,'D5_L2': D5_L2},\n",
    "                                ignore_index = True)  #Append data to DataFrame   \n",
    "    except:\n",
    "        print (scan + \"error occured\")\n",
    "    \n",
    "df"
   ]
  },
  {
   "cell_type": "code",
   "execution_count": null,
   "metadata": {
    "collapsed": false
   },
   "outputs": [],
   "source": [
    "df.to_csv('data_length6.csv')\n",
    "print('done')"
   ]
  },
  {
   "cell_type": "code",
   "execution_count": null,
   "metadata": {
    "collapsed": true
   },
   "outputs": [],
   "source": []
  }
 ],
 "metadata": {
  "kernelspec": {
   "display_name": "Python 3",
   "language": "python",
   "name": "python3"
  },
  "language_info": {
   "codemirror_mode": {
    "name": "ipython",
    "version": 3
   },
   "file_extension": ".py",
   "mimetype": "text/x-python",
   "name": "python",
   "nbconvert_exporter": "python",
   "pygments_lexer": "ipython3",
   "version": "3.4.5"
  }
 },
 "nbformat": 4,
 "nbformat_minor": 2
}
