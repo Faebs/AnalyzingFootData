{
 "cells": [
  {
   "cell_type": "code",
   "execution_count": null,
   "metadata": {
    "collapsed": true
   },
   "outputs": [],
   "source": [
    "import pandas as pd\n",
    "import os as os\n",
    "import cv2\n",
    "import numpy as np\n",
    "from matplotlib import pyplot as plt\n",
    "\n",
    "%matplotlib inline\n",
    "import mpld3\n",
    "mpld3.enable_notebook()\n",
    "\n",
    "#Variables\n",
    "ID = 'NaN'\n",
    "size_wiki = 'NaN'\n",
    "size_nkb = 'NaN'\n",
    "foot_length_cm = 'NaN'\n",
    "foot_length_dots = 'NaN'\n",
    "foot_width_cm = 'NaN'\n",
    "foot_width_dots = 'NaN'\n",
    "Fersenbreite_cm = 'NaN'\n",
    "Fersenbreite_dots = 'NaN'\n",
    "Ballenbreite_cm = 'NaN'\n",
    "Ballenbreite_dots = 'NaN'\n",
    "D5_x_cm = 'NaN'\n",
    "D4_x_cm = 'NaN'\n",
    "D3_x_cm = 'NaN'\n",
    "D2_x_cm = 'NaN'\n",
    "D1_x_cm = 'NaN'\n",
    "D5_y_cm = 'NaN'\n",
    "D4_y_cm = 'NaN'\n",
    "D3_y_cm = 'NaN'\n",
    "D2_y_cm = 'NaN'\n",
    "D1_y_cm = 'NaN'"
   ]
  },
  {
   "cell_type": "code",
   "execution_count": null,
   "metadata": {
    "collapsed": true,
    "scrolled": true
   },
   "outputs": [],
   "source": [
    "%run AnalyseFootScan.ipynb"
   ]
  },
  {
   "cell_type": "code",
   "execution_count": null,
   "metadata": {},
   "outputs": [],
   "source": [
    "#Analyze all Pictures\n",
    "#Initilaize Folder with Footscans\n",
    "#listOfAllFiles = os.listdir(path = \"/Fussscans\")\n",
    "pathFolder = \"C:\\\\Users\\\\Fabian\\\\Desktop\\\\GIThub\\\\AnalyzingFootData\\\\\"\n",
    "listOfAllFiles = os.listdir(path = pathFolder)#\\\\sortiertName\")#FussScansSelection\")\n",
    "#listOfAllFiles = os.listdir(path = \"F:\\\\Dropbox\\\\ADICS\\\\22_Grundlagenentwicklung\\\\Fussscans\")\n",
    "#listOfAllFiles = os.listdir(path = \"F:\\\\Dropbox\\\\ADICS\\\\22_Grundlagenentwicklung\") #\\\\usefulrest\")\n",
    "\n",
    "listOfAllScans = []\n",
    "for scans in listOfAllFiles:\n",
    "    if scans.endswith(\".JPG\"):\n",
    "        listOfAllScans.append(scans)\n",
    "        #print (scans)\n",
    "print (listOfAllScans)"
   ]
  },
  {
   "cell_type": "code",
   "execution_count": null,
   "metadata": {
    "scrolled": true
   },
   "outputs": [],
   "source": [
    "#Creates Dataframe with Columns\n",
    "df = pd.DataFrame(columns=['ID','Size_wiki', 'Size_NKB','Length_cm', 'Length_dots','Width_cm', 'Width_dots',\n",
    "                           'Fersenbreite_cm', 'Fersenbreite_dots', 'Ballenbreite_cm', 'Ballenbreite_dots',\n",
    "                           'D5_x_cm','D4_x_cm','D3_x_cm','D2_x_cm','D1_x_cm',\n",
    "                           'D5_y_cm','D4_y_cm','D3_y_cm','D2_y_cm','D1_y_cm'])\n",
    "\n",
    "#Limits Numer of scans\n",
    "i = 0\n",
    "i_start = 0 \n",
    "i_end = 9999 #write a number higher den the count of the scans to run all\n",
    "#Do it for defined scans in the chosen folder\n",
    "print(listOfAllScans)\n",
    "for scan in listOfAllScans:\n",
    "    ID = 'NaN' #sets every value back to NaN\n",
    "    size_wiki = 'NaN'\n",
    "    size_nkb = 'NaN'\n",
    "    foot_length_cm = 'NaN'\n",
    "    foot_length_dots = 'NaN'\n",
    "    foot_width_cm = 'NaN'\n",
    "    foot_width_dots = 'NaN'\n",
    "    Fersenbreite_cm = 'NaN'\n",
    "    Fersenbreite_dots = 'NaN'\n",
    "    Ballenbreite_cm = 'NaN'\n",
    "    Ballenbreite_dots = 'NaN'\n",
    "    D5_x_cm = 'NaN'\n",
    "    D4_x_cm = 'NaN'\n",
    "    D3_x_cm = 'NaN'\n",
    "    D2_x_cm = 'NaN'\n",
    "    D1_x_cm = 'NaN'\n",
    "    D5_y_cm = 'NaN'\n",
    "    D4_y_cm = 'NaN'\n",
    "    D3_y_cm = 'NaN'\n",
    "    D2_y_cm = 'NaN'\n",
    "    D1_y_cm = 'NaN'\n",
    "    if i >= i_start and i <= i_end:\n",
    "        print (scan) \n",
    "        try:\n",
    "            image = cv2.imread(scan) # load image\n",
    "            foot_length_cm, foot_length_dots, foot_width_cm, foot_width_dots = analyseFootScan(image, False) # Boolean specifies whether visualization is done\n",
    "\n",
    "            ID = scan.strip(\".JPG\")\n",
    "            #Define Size\n",
    "            #nach Wikipedia: \n",
    "            #Schuhgröße (EU) ≈ (Fußlänge in cm + 1,5) × 1,5    // Rundung auf halbe Größen\n",
    "            size_wiki = round((foot_length_cm + 1.5)*1.5 * 2) / 2\n",
    "            size_nkb = size_wiki -1\n",
    "        except:\n",
    "            print (scan + \"error occured\")\n",
    "        try: \n",
    "            filePathPNG = pathFolder + ID + '.png'#'C:\\\\Users\\\\Fabian\\\\Desktop\\\\GIThub\\\\AnalyzingFootData\\\\'+ ID + '.png'\n",
    "            print(filePathPNG)\n",
    "            if os.path.isfile(filePathPNG):\n",
    "                image = plt.imread(filePathPNG) # load image\n",
    "                Fersenbreite_dots, Fersenbreite_cm, Ballenbreite_dots, Ballenbreite_cm,D5_x_cm, D4_x_cm, D3_x_cm,D2_x_cm,D1_x_cm, D5_y_cm, D4_y_cm, D3_y_cm,D2_y_cm,D1_y_cm = readBluePointsOfFootScan(image, False)\n",
    "            else:\n",
    "                print(ID +'.png' + ' does not exists')\n",
    "        except:\n",
    "                print(ID +'.png' + 'error occured')\n",
    "        try:    \n",
    "            df = df.append({'ID': ID,'Size_wiki':size_wiki, 'Size_NKB':size_nkb, \n",
    "                            'Length_cm': foot_length_cm, 'Length_dots': foot_length_dots,\n",
    "                            'Width_cm': foot_width_cm, 'Width_dots': foot_width_dots, 'Fersenbreite_cm': Fersenbreite_cm,'Fersenbreite_dots': Fersenbreite_dots,\n",
    "                            'Ballenbreite_cm':Ballenbreite_cm, 'Ballenbreite_dots': Ballenbreite_dots,\n",
    "                            'D5_x_cm': D5_x_cm,'D4_x_cm':D4_x_cm ,'D3_x_cm':D3_x_cm,'D2_x_cm':D2_x_cm,'D1_x_cm':D1_x_cm,\n",
    "                           'D5_y_cm': D5_y_cm,'D4_y_cm':D4_y_cm,'D3_y_cm':D3_y_cm,'D2_y_cm':D2_y_cm,'D1_y_cm':D1_y_cm},\n",
    "                                    ignore_index = True)  #Append data to DataFrame   \n",
    "        except:\n",
    "                print(ID + \" error while writing data to dataframe\")\n",
    "    i= i+1\n",
    "    \n",
    "df"
   ]
  },
  {
   "cell_type": "code",
   "execution_count": null,
   "metadata": {},
   "outputs": [],
   "source": [
    "df.to_csv('data_length15.csv')\n",
    "print('done')"
   ]
  },
  {
   "cell_type": "code",
   "execution_count": null,
   "metadata": {
    "collapsed": true
   },
   "outputs": [],
   "source": []
  },
  {
   "cell_type": "code",
   "execution_count": null,
   "metadata": {
    "collapsed": true
   },
   "outputs": [],
   "source": [
    "\n"
   ]
  },
  {
   "cell_type": "code",
   "execution_count": null,
   "metadata": {
    "collapsed": true
   },
   "outputs": [],
   "source": []
  }
 ],
 "metadata": {
  "kernelspec": {
   "display_name": "Python 3",
   "language": "python",
   "name": "python3"
  },
  "language_info": {
   "codemirror_mode": {
    "name": "ipython",
    "version": 3
   },
   "file_extension": ".py",
   "mimetype": "text/x-python",
   "name": "python",
   "nbconvert_exporter": "python",
   "pygments_lexer": "ipython3",
   "version": "3.6.2"
  }
 },
 "nbformat": 4,
 "nbformat_minor": 2
}
