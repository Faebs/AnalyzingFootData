{
 "cells": [
  {
   "cell_type": "code",
   "execution_count": 1,
   "metadata": {
    "collapsed": true
   },
   "outputs": [],
   "source": [
    "import pandas as pd\n",
    "import os as os\n",
    "import cv2\n",
    "import numpy as np\n",
    "from matplotlib import pyplot as plt\n",
    "\n",
    "%matplotlib inline\n",
    "import mpld3\n",
    "mpld3.enable_notebook()\n",
    "\n",
    "#Variables\n",
    "ID = 'NaN'\n",
    "size_wiki = 'NaN'\n",
    "size_nkb = 'NaN'\n",
    "foot_length_cm = 'NaN'\n",
    "foot_length_dots = 'NaN'\n",
    "foot_width_cm = 'NaN'\n",
    "foot_width_dots = 'NaN'\n",
    "Fersenbreite = 'NaN'\n",
    "D1_L1 = 'NaN'\n",
    "D2_L1 = 'NaN'\n",
    "D3_L1 = 'NaN'\n",
    "D4_L1 = 'NaN'\n",
    "D5_L1 = 'NaN'\n",
    "D1_L2 = 'NaN'\n",
    "D2_L2 = 'NaN'\n",
    "D3_L2 = 'NaN'\n",
    "D4_L2 = 'NaN'\n",
    "D5_L2 = 'NaN'"
   ]
  },
  {
   "cell_type": "code",
   "execution_count": 2,
   "metadata": {
    "collapsed": true
   },
   "outputs": [],
   "source": [
    "%run AnalyseFootScan.ipynb"
   ]
  },
  {
   "cell_type": "code",
   "execution_count": null,
   "metadata": {},
   "outputs": [
    {
     "name": "stdout",
     "output_type": "stream",
     "text": [
      "20090313145121.JPG\n",
      "Foot length is 26.46 cm.\n",
      "Foot width is 10.51 cm.\n",
      "20090319102532.JPG\n",
      "Foot length is 24.2 cm.\n",
      "Foot width is 9.21 cm.\n",
      "20090323115459.JPG\n",
      "Foot length is 25.47 cm.\n",
      "Foot width is 9.7 cm.\n",
      "20090409172040.JPG\n",
      "Warning: There is more than one object in the image!\n",
      "Foot length is 26.92 cm.\n",
      "Foot width is 10.3 cm.\n",
      "20090414154348.JPG\n",
      "Foot length is 26.35 cm.\n",
      "Foot width is 10.09 cm.\n",
      "20090519143807.JPG\n",
      "Foot length is 24.55 cm.\n",
      "Foot width is 10.05 cm.\n",
      "20090605101736.JPG\n",
      "Foot length is 24.17 cm.\n",
      "Foot width is 9.95 cm.\n",
      "20090626135951.JPG\n",
      "Foot length is 27.76 cm.\n",
      "Foot width is 10.41 cm.\n",
      "20090703133942.JPG\n",
      "Foot length is 27.87 cm.\n",
      "Foot width is 10.51 cm.\n",
      "20090803090905.JPG\n",
      "Foot length is 26.28 cm.\n",
      "Foot width is 10.3 cm.\n",
      "20090804153556.JPG\n",
      "Warning: There is more than one object in the image!\n",
      "Foot length is 27.66 cm.\n",
      "Foot width is 10.72 cm.\n",
      "20090811085933.JPG\n",
      "Foot length is 26.71 cm.\n",
      "Foot width is 10.37 cm.\n",
      "20090826082712.JPG\n",
      "Warning: There is more than one object in the image!\n",
      "Foot length is 27.45 cm.\n",
      "Foot width is 11.08 cm.\n",
      "20090909094709.JPG\n",
      "Foot length is 28.96 cm.\n",
      "Foot width is 10.55 cm.\n",
      "20090917084510.JPG\n",
      "Foot length is 23.78 cm.\n",
      "Foot width is 9.31 cm.\n",
      "20090928162533.JPG\n",
      "Foot length is 27.59 cm.\n",
      "Foot width is 10.27 cm.\n",
      "20091005154159.JPG\n",
      "Warning: There is more than one object in the image!\n",
      "Foot length is 26.92 cm.\n",
      "Foot width is 10.3 cm.\n",
      "20091007154745.JPG\n",
      "Foot length is 24.48 cm.\n",
      "Foot width is 10.02 cm.\n",
      "20091102094852.JPG\n",
      "Foot length is 23.21 cm.\n",
      "Foot width is 9.14 cm.\n",
      "20100107171631.JPG\n",
      "Warning: There is more than one object in the image!\n",
      "Foot length is 26.32 cm.\n",
      "Foot width is 10.58 cm.\n",
      "20100118142610.JPG\n",
      "Foot length is 25.47 cm.\n",
      "Foot width is 10.37 cm.\n",
      "20100127132321.JPG\n",
      "Foot length is 26.88 cm.\n",
      "Foot width is 10.58 cm.\n",
      "20100304103544.JPG\n",
      "Foot length is 28.05 cm.\n",
      "Foot width is 10.37 cm.\n",
      "20100312135858.JPG\n",
      "Foot length is 27.59 cm.\n",
      "Foot width is 10.16 cm.\n",
      "20100318164506.JPG\n"
     ]
    }
   ],
   "source": [
    "#Analyze all Pictures\n",
    "#Initilaize Folder with Footscans\n",
    "#listOfAllFiles = os.listdir(path = \"/Fussscans\")\n",
    "listOfAllFiles = os.listdir(path = \"C:\\\\Users\\\\Fabian\\\\Desktop\\\\GIThub\\\\AnalyzingFootData\")#\\\\sortiertName\")#FussScansSelection\")\n",
    "#listOfAllFiles = os.listdir(path = \"F:\\\\Dropbox\\\\ADICS\\\\22_Grundlagenentwicklung\\\\Fussscans\")\n",
    "#listOfAllFiles = os.listdir(path = \"F:\\\\Dropbox\\\\ADICS\\\\22_Grundlagenentwicklung\") #\\\\usefulrest\")\n",
    "\n",
    "listOfAllScans = []\n",
    "for scans in listOfAllFiles:\n",
    "    if scans.endswith(\".JPG\"):\n",
    "        listOfAllScans.append(scans)\n",
    "        #print (scans)\n",
    "#print (listOfAllScans)\n",
    "\n",
    "#Creates Dataframe with Columns\n",
    "df = pd.DataFrame(columns=['ID','Size_wiki', 'Size_NKB','Length_cm', 'Length_dots','Width_cm', 'Width_dots','Fersenbreite',\n",
    "                           'D1_L1','D2_L1','D3_L1','D4_L1','D5_L1',\n",
    "                           'D1_L2','D2_L2','D3_L2','D4_L2','D5_L2'])\n",
    "\n",
    "#Limits Numer of scans\n",
    "i = 0\n",
    "i_start = 0 \n",
    "i_end = 9999 #write a number higher den the count of the scans to run all\n",
    "#Do it for defined scans in the chosen folder\n",
    "for scan in listOfAllScans:\n",
    "    if i >= i_start and i <= i_end:\n",
    "        print (scan) \n",
    "        try:\n",
    "            image = cv2.imread(scan) # load image\n",
    "            foot_length_cm, foot_length_dots, foot_width_cm, foot_width_dots = analyseFootScan(image, False) # Boolean specifies whether visualization is done\n",
    "\n",
    "            ID = scan.strip(\".JPG\")\n",
    "            #Define Size\n",
    "            #nach Wikipedia: \n",
    "            #Schuhgröße (EU) ≈ (Fußlänge in cm + 1,5) × 1,5    // Rundung auf halbe Größen\n",
    "            size_wiki = round((foot_length_cm + 1.5)*1.5 * 2) / 2\n",
    "            size_nkb = size_wiki -1\n",
    "            \n",
    "            df = df.append({'ID': ID,'Size_wiki':size_wiki, 'Size_NKB':size_nkb, \n",
    "                            'Length_cm': foot_length_cm, 'Length_dots': foot_length_dots,\n",
    "                            'Width_cm': foot_width_cm, 'Width_dots': foot_width_dots, 'Fersenbreite': Fersenbreite,\n",
    "                            'D1_L1': D1_L1,'D2_L1': D2_L1,'D3_L1': D3_L1,'D4_L1': D4_L1,'D5_L1': D5_L1,\n",
    "                            'D1_L2': D1_L2,'D2_L2': D2_L2,'D3_L2': D3_L2,'D4_L2': D4_L2,'D5_L2': D5_L2},\n",
    "                                    ignore_index = True)  #Append data to DataFrame   \n",
    "        except:\n",
    "            print (scan + \"error occured\")\n",
    "    i= i+1\n",
    "    \n",
    "df"
   ]
  },
  {
   "cell_type": "code",
   "execution_count": 4,
   "metadata": {},
   "outputs": [
    {
     "name": "stdout",
     "output_type": "stream",
     "text": [
      "done\n"
     ]
    }
   ],
   "source": [
    "df.to_csv('data_length10.csv')\n",
    "print('done')"
   ]
  },
  {
   "cell_type": "code",
   "execution_count": null,
   "metadata": {
    "collapsed": true
   },
   "outputs": [],
   "source": []
  }
 ],
 "metadata": {
  "kernelspec": {
   "display_name": "Python 3",
   "language": "python",
   "name": "python3"
  },
  "language_info": {
   "codemirror_mode": {
    "name": "ipython",
    "version": 3
   },
   "file_extension": ".py",
   "mimetype": "text/x-python",
   "name": "python",
   "nbconvert_exporter": "python",
   "pygments_lexer": "ipython3",
   "version": "3.6.2"
  }
 },
 "nbformat": 4,
 "nbformat_minor": 2
}
